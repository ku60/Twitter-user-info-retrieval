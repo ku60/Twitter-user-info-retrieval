{
 "cells": [
  {
   "cell_type": "code",
   "execution_count": 1,
   "metadata": {},
   "outputs": [],
   "source": [
    "from reppy.robots import Robots"
   ]
  },
  {
   "cell_type": "code",
   "execution_count": 3,
   "metadata": {},
   "outputs": [],
   "source": [
    "#type website url you want to scrape\n",
    "website_url = \"https://twitter.com\""
   ]
  },
  {
   "cell_type": "code",
   "execution_count": 10,
   "metadata": {},
   "outputs": [],
   "source": [
    "#type webpage url you want to scrape\n",
    "page_url = \"https://twitter.com/account/deactivated\""
   ]
  },
  {
   "cell_type": "code",
   "execution_count": 11,
   "metadata": {},
   "outputs": [
    {
     "name": "stdout",
     "output_type": "stream",
     "text": [
      "False\n"
     ]
    }
   ],
   "source": [
    "robots = Robots.fetch(website_url + \"/robots.txt\")\n",
    "agent = robots.agent(\"*\")\n",
    "agent = agent.allowed(page_url)\n",
    "print(agent)"
   ]
  },
  {
   "cell_type": "code",
   "execution_count": 13,
   "metadata": {},
   "outputs": [
    {
     "name": "stdout",
     "output_type": "stream",
     "text": [
      "Crawl-Delay: 1 [Directive(Disallow: /settings/deactivated), Directive(Disallow: /account/deactivated), Directive(Disallow: /search/realtime), Directive(Allow: /hashtag/*?src=), Directive(Disallow: /search/*/grid), Directive(Allow: /search?q=%23), Directive(Disallow: /search/users), Directive(Disallow: /*/followers), Directive(Disallow: /*/following), Directive(Disallow: /i/streams), Directive(Allow: /*?lang=), Directive(Disallow: /1/oauth), Directive(Disallow: /i/hello), Directive(Allow: /i/api/), Directive(Disallow: /oauth), Directive(Disallow: /i/u), Directive(Disallow: /*?)]\n"
     ]
    }
   ],
   "source": [
    "#if you want to see all of robots.txt\n",
    "agent = robots.agent(\"*\")\n",
    "print(agent)"
   ]
  },
  {
   "cell_type": "code",
   "execution_count": null,
   "metadata": {},
   "outputs": [],
   "source": []
  }
 ],
 "metadata": {
  "kernelspec": {
   "display_name": "Python 3",
   "language": "python",
   "name": "python3"
  },
  "language_info": {
   "codemirror_mode": {
    "name": "ipython",
    "version": 3
   },
   "file_extension": ".py",
   "mimetype": "text/x-python",
   "name": "python",
   "nbconvert_exporter": "python",
   "pygments_lexer": "ipython3",
   "version": "3.7.6"
  }
 },
 "nbformat": 4,
 "nbformat_minor": 4
}
